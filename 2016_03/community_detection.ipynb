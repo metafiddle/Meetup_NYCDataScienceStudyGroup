{
 "cells": [
  {
   "cell_type": "markdown",
   "metadata": {},
   "source": [
    "<h1>Introduction to Community Detection</h1>"
   ]
  },
  {
   "cell_type": "markdown",
   "metadata": {},
   "source": [
    "<h3>Motivation: The Quarantine Problem</h3>\n",
    "\n",
    "You run the IT department at a large organization in which the employees regularly let their computers get infected with viruses that spread rapidly through the network.  Once you get a report about an infection, you want to be able to contain the spread of the infection as quickly as possible by terminating as few network connections as possible.  How do you do it?\n",
    "\n",
    "Idea: look for \"communities\" in the network which can be easily disconnected from one another, and hope that you can cut the connections fast enough to contain the virus to a single community.\n",
    "\n",
    "But how do you find these communities?\n",
    "\n",
    "Other applications:\n",
    "<ul>\n",
    "<li>Broadcasting problem </li>\n",
    "<li>Influence optimization </li>\n",
    "<li>Sensor networks </li>\n",
    "</ul>"
   ]
  },
  {
   "cell_type": "markdown",
   "metadata": {},
   "source": [
    "<h3>Background on Networks</h3>\n",
    "\n",
    "We will model a network as a graph $G$ consisting of a set of vertices $V$ and a set of edges between vertices $E$.  For simplicity, assume that $G$ is unweighted and undirected.  Some notation:\n",
    "\n",
    "<ul>\n",
    "<li> The <i>degree</i> of a vertex $v \\in V$ is the number of edges with $v$ as a vertex </li>\n",
    "<li> The <i>volume</i> of a set $S \\subseteq V$ of vertices is the sum of the degrees of its elements:\n",
    "    $$vol(S) = \\sum_{v \\in S} deg(v)$$\n",
    "<li> The <i>complement</i> of a set $S \\subseteq V$ is the set $S^c$ of all vertices not in $S$ </li>\n",
    "<li> The <i>boundary</i> of a set $S \\subseteq V$ is the set $\\partial S$ of all edges connecting a vertex in $S$ to a vertex in $S^c$\n",
    "</ul>\n"
   ]
  },
  {
   "cell_type": "markdown",
   "metadata": {},
   "source": [
    "<h3>Communities</h3>\n",
    "\n",
    "Intuition: a community in a network is a set of vertices with many more internal connections than external connections.\n",
    "\n",
    "Given a set $S$ of vertices, the <i>conductance</i> of $S$ is defined to be:\n",
    "$$\\Phi(S) = \\frac{|\\partial S|}{\\min(vol(S), vol(S^c))}$$\n",
    "(i.e. the number of boundary edges divided by the \"balanced volume\" of $S$)\n",
    "\n",
    "Broadly speaking, community detection is the science of finding sets of vertices in a graph with small conductance.  (Other measures of \"community-ness\" are used in the literature.)  We will focus on two sub-problems:\n",
    "\n",
    "<ul>\n",
    "<li>The Partitioning Problem: find the set of vertices whose conductance is smallest (the \"optimal cut\") </li>\n",
    "<li>The Community Recovery Problem: find a neighborhood of a prescribed collection of vertices with small conductance  </li>\n",
    "</ul>\n",
    "\n",
    "Note that the partitioning problem includes the community recovery problem as stated as a special case.  However, for extremely large networks, partitioning is generally intractible while community recovery is often possible.\n",
    "\n",
    "Some literature on the partitioning problem (\"global clustering\"):\n",
    "<ul>\n",
    "<li>Spectral theory </li>\n",
    "<li>Semidefinite programming </li>\n",
    "<li>Louvain clustering </li>\n",
    "</ul>\n",
    "\\\n",
    "Some literature on the community recovery problem (\"local clustering\"):\n",
    "<ul>\n",
    "<li>Random walks / PageRank</li>\n",
    "<li>Flow algorithm</li>\n",
    "</ul>"
   ]
  },
  {
   "cell_type": "markdown",
   "metadata": {},
   "source": [
    "<h3>Spectral Clustering (Global)</h3>\n",
    "\n",
    "Intuition: communities correspond to low frequence waves (normal modes).  According to physics, waves correspond to eigenvectors of the Laplace operator.\n",
    "\n",
    "The <i>degree matrix</i> of a graph with $n$ vertices is the $n \\times n$ matrix $D$ whose $i$th diagonal entry is the degree of the $i$th vertex.\n",
    "\n",
    "The <i>adjacency matrix</i> is the $n \\times n$ matrix $A$ whose $(i,j)$ entry is $1$ if there is an edge between the $i$th and $j$th vertex and $0$ otherwise.\n",
    "\n",
    "The <i>unnormalized Laplacian matrix</i> is the matrix $L = D - A$.  The <i>Laplacian</i> is the matrix $\\mathcal{L} = D^{-1/2} L D^{-1/2}$"
   ]
  },
  {
   "cell_type": "code",
   "execution_count": null,
   "metadata": {
    "collapsed": true
   },
   "outputs": [],
   "source": []
  },
  {
   "cell_type": "code",
   "execution_count": null,
   "metadata": {
    "collapsed": true
   },
   "outputs": [],
   "source": [
    "G = small_graph()\n",
    "write_graph(G, \"net.html\")"
   ]
  },
  {
   "cell_type": "code",
   "execution_count": null,
   "metadata": {
    "collapsed": false
   },
   "outputs": [],
   "source": [
    "print(nx.adjacency_matrix(G))"
   ]
  },
  {
   "cell_type": "code",
   "execution_count": null,
   "metadata": {
    "collapsed": false
   },
   "outputs": [],
   "source": [
    "print(nx.laplacian_matrix(G))"
   ]
  },
  {
   "cell_type": "code",
   "execution_count": null,
   "metadata": {
    "collapsed": false
   },
   "outputs": [],
   "source": [
    "print(nx.normalized_laplacian_matrix(G))"
   ]
  },
  {
   "cell_type": "code",
   "execution_count": null,
   "metadata": {
    "collapsed": true
   },
   "outputs": [],
   "source": []
  },
  {
   "cell_type": "code",
   "execution_count": null,
   "metadata": {
    "collapsed": true
   },
   "outputs": [],
   "source": []
  },
  {
   "cell_type": "code",
   "execution_count": null,
   "metadata": {
    "collapsed": true
   },
   "outputs": [],
   "source": []
  },
  {
   "cell_type": "markdown",
   "metadata": {},
   "source": [
    "<b>Proposition:</b> The Laplacian matrix $\\mathcal{L}$ of a graph $G$ has the following properties:\n",
    "<ul>\n",
    "<li> The eigenvalues of $\\mathcal{L}$ lie in the interval $[0,2]$</li>\n",
    "<li> $0$ is always an eigenvalue of $\\mathcal{L}$, and the multiplicity of $0$ is equal to the number of connected components of $G$.\n",
    "</ul>\n",
    "\n",
    "In particular, $G$ is disconnected if and only if $0$ is a repeated eigenvalue.  Key idea: if $G$ is connected but the second smallest eigenvalue of the Laplacian is small, then $G$ is \"almost disconnected\"."
   ]
  },
  {
   "cell_type": "markdown",
   "metadata": {},
   "source": [
    "<b>Spectral Clustering Algorithm</b>\n",
    "\n",
    "Input: a graph $G$.\n",
    "<ol>\n",
    "<li> Compute an eigenvector $e_2$ associated to the smallest nonzero eigenvalue of the Laplacian $\\mathcal{L}$ of $G$. </li>\n",
    "<li> Order the vertices so that:\n",
    "$$\\frac{e_2(v_1)}{\\sqrt{deg(v_1)}} \\geq \\frac{e_2(v_2)}{\\sqrt{deg(v_2)}} \\geq \\ldots \\geq \\frac{e_2(v_n)}{\\sqrt{deg(v_n)}}$$</li>\n",
    "<li> Compute the conductance of each \"level set\" for this ordering:\n",
    "$$\\Phi_1 = \\Phi(\\{v_1\\})$$\n",
    "$$\\Phi_2 = \\Phi(\\{v_1, v_2\\})$$\n",
    "$$\\Phi_3 = \\Phi(\\{v_1, v_2, v_3\\})$$\n",
    "$$\\ldots \\Phi_n = \\Phi(\\{v_1, \\ldots, v_n\\})$$</li>\n",
    "</ol>\n",
    "Output: the set $\\{v_1, \\ldots, v_k\\}$ which minimizes $\\Phi_k$.\n",
    "\n",
    "(Because of its importance in this algorithm, $e_2$ is often called the <i>Fiedler vector</i> of $G$.)"
   ]
  },
  {
   "cell_type": "code",
   "execution_count": null,
   "metadata": {
    "collapsed": true
   },
   "outputs": [],
   "source": []
  },
  {
   "cell_type": "code",
   "execution_count": null,
   "metadata": {
    "collapsed": true
   },
   "outputs": [],
   "source": [
    "G = block_graph(.3, 5)"
   ]
  },
  {
   "cell_type": "code",
   "execution_count": null,
   "metadata": {
    "collapsed": false
   },
   "outputs": [],
   "source": [
    "weights = nx.fiedler_vector(G, normalized = True)\n",
    "\n",
    "for n in G.nodes():\n",
    "    G.node[n][\"w\"] = weights[n] / math.sqrt(G.degree(n)) * 100"
   ]
  },
  {
   "cell_type": "code",
   "execution_count": null,
   "metadata": {
    "collapsed": true
   },
   "outputs": [],
   "source": [
    "write_graph(G, \"net.html\")"
   ]
  },
  {
   "cell_type": "code",
   "execution_count": null,
   "metadata": {
    "collapsed": true
   },
   "outputs": [],
   "source": []
  },
  {
   "cell_type": "markdown",
   "metadata": {},
   "source": [
    "<h3>PageRank Clustering (Local)</h3>\n",
    "\n",
    "Intuition: Take a starting vertex (or collection of starting vertices) as input.  Extract a community neighboring the starting vertex by looking for those other vertices which are most likely to be visited in a short random walk beginning at that vertex.\n",
    "\n",
    "Instead of actually simulating random walks, use the <i>personalized PageRank algorithm</i>, a variation on Brin and Page's algorithm for web search.  The PageRank algorithm aggregates probabilities associated to random walks of all different lengths, with a bias toward shorter walks."
   ]
  },
  {
   "cell_type": "markdown",
   "metadata": {
    "collapsed": true
   },
   "source": [
    "<b>Definition:</b> The <i>random walk</i> matrix of a graph $G$ is the matrix $W = D^{-1}A$.  \n",
    "\n",
    "If $q$ is a probability vector indexed by the vertices of $G$, then the entries of the vector $qW$ (right multiplication) give the probabilities of reaching each vertex after a one step random walk (assuming the starting vertex was chosen from the distribution $q$).\n",
    "\n",
    "<b>Definition:</b> Let $\\alpha \\in (0,1)$ be a \"jumping constant\" and let $s$ be a fixed probability vector indexed by the vertices of $G$.  The <i>PageRank</i> vector $p = pr(s, \\alpha)$ is the (unique) solution to the equation:\n",
    "$$p = \\alpha s + (1-\\alpha)pW$$\n",
    "\n",
    "(Usually PageRank vectors are computed using the iteration $p_{k+1} = \\alpha s + (1-\\alpha)p_k W$)"
   ]
  },
  {
   "cell_type": "markdown",
   "metadata": {},
   "source": [
    "<b>PageRank Clustering Algorithm</b>\n",
    "\n",
    "Input: a graph $G$ and a set $S$ of vertices.\n",
    "<ol>\n",
    "<li> Choose a small jumping constant $\\alpha$, and let $s$ be the uniform probability vector supported on $S$.  Compute the PageRank vector $p = pr(s, \\alpha)$.</li>\n",
    "<li> Order the vertices so that:\n",
    "$$\\frac{p(v_1)}{deg(v_1)} \\geq \\frac{p(v_2)}{deg(v_2)} \\geq \\ldots \\geq \\frac{p(v_n)}{deg(v_n)}$$</li>\n",
    "<li> Compute the conductances $\\Phi_1, \\ldots, \\Phi_n$ of the level sets for this ordering, exactly as in the spectral clustering algorithm.\n",
    "\n",
    "Output: the set $\\{v_1, \\ldots, v_k\\}$ which minimizes $\\Phi_k$.\n",
    "</ol>"
   ]
  },
  {
   "cell_type": "code",
   "execution_count": null,
   "metadata": {
    "collapsed": true
   },
   "outputs": [],
   "source": []
  },
  {
   "cell_type": "code",
   "execution_count": null,
   "metadata": {
    "collapsed": true
   },
   "outputs": [],
   "source": [
    "G = block_graph(.3, 5)\n",
    "s = {n: 1 if n in range(0,1) else 0 for n in G.nodes()}"
   ]
  },
  {
   "cell_type": "code",
   "execution_count": null,
   "metadata": {
    "collapsed": false
   },
   "outputs": [],
   "source": [
    "weights = nx.pagerank(G, alpha = .1, personalization = s)"
   ]
  },
  {
   "cell_type": "code",
   "execution_count": null,
   "metadata": {
    "collapsed": false
   },
   "outputs": [],
   "source": [
    "for n in G.nodes():\n",
    "    G.node[n][\"w\"] = weights[n] / G.degree(n) * 100000"
   ]
  },
  {
   "cell_type": "code",
   "execution_count": null,
   "metadata": {
    "collapsed": true
   },
   "outputs": [],
   "source": [
    "write_graph(G, \"net.html\")"
   ]
  },
  {
   "cell_type": "code",
   "execution_count": null,
   "metadata": {
    "collapsed": true
   },
   "outputs": [],
   "source": []
  },
  {
   "cell_type": "code",
   "execution_count": null,
   "metadata": {
    "collapsed": true
   },
   "outputs": [],
   "source": []
  },
  {
   "cell_type": "code",
   "execution_count": null,
   "metadata": {
    "collapsed": true
   },
   "outputs": [],
   "source": []
  },
  {
   "cell_type": "code",
   "execution_count": null,
   "metadata": {
    "collapsed": true
   },
   "outputs": [],
   "source": []
  },
  {
   "cell_type": "code",
   "execution_count": null,
   "metadata": {
    "collapsed": true
   },
   "outputs": [],
   "source": []
  },
  {
   "cell_type": "code",
   "execution_count": null,
   "metadata": {
    "collapsed": true
   },
   "outputs": [],
   "source": []
  },
  {
   "cell_type": "code",
   "execution_count": null,
   "metadata": {
    "collapsed": true
   },
   "outputs": [],
   "source": []
  },
  {
   "cell_type": "code",
   "execution_count": null,
   "metadata": {
    "collapsed": true
   },
   "outputs": [],
   "source": []
  },
  {
   "cell_type": "code",
   "execution_count": null,
   "metadata": {
    "collapsed": true
   },
   "outputs": [],
   "source": []
  },
  {
   "cell_type": "code",
   "execution_count": null,
   "metadata": {
    "collapsed": true
   },
   "outputs": [],
   "source": []
  },
  {
   "cell_type": "code",
   "execution_count": null,
   "metadata": {
    "collapsed": true
   },
   "outputs": [],
   "source": []
  },
  {
   "cell_type": "code",
   "execution_count": null,
   "metadata": {
    "collapsed": true
   },
   "outputs": [],
   "source": []
  },
  {
   "cell_type": "code",
   "execution_count": null,
   "metadata": {
    "collapsed": true
   },
   "outputs": [],
   "source": [
    "def small_graph():\n",
    "    G = nx.Graph()\n",
    "    G.add_edge(0,1)\n",
    "    G.add_edge(0,2)\n",
    "    G.add_edge(0,3)\n",
    "    G.add_edge(1,3)\n",
    "    \n",
    "    for n in G.nodes():\n",
    "        G.node[n][\"w\"] = 1\n",
    "    \n",
    "    return G"
   ]
  },
  {
   "cell_type": "code",
   "execution_count": null,
   "metadata": {
    "collapsed": true
   },
   "outputs": [],
   "source": [
    "import json\n",
    "import math\n",
    "from random import randint\n",
    "import networkx as nx\n",
    "\n",
    "def block_graph(p, m):\n",
    "    #Create four blocks\n",
    "    G1 = nx.binomial_graph(50, p)\n",
    "    G2 = nx.binomial_graph(50, p)\n",
    "    G3 = nx.binomial_graph(50, p)\n",
    "    G4 = nx.binomial_graph(50, p)\n",
    "\n",
    "    #Add them all to the same network\n",
    "    G = nx.disjoint_union(G1, G2)\n",
    "    G = nx.disjoint_union(G, G3)\n",
    "    G = nx.disjoint_union(G, G4)\n",
    "    \n",
    "    #Add 'weight' attribute to every node\n",
    "    for n in G.nodes():\n",
    "        G.node[n][\"w\"] = 1\n",
    "\n",
    "    #Add edges between blocks\n",
    "    for i in range(0,m):\n",
    "        G.add_edge(randint(0,49), randint(50,99))\n",
    "        G.add_edge(randint(0,49), randint(100,149))\n",
    "        G.add_edge(randint(0,49), randint(150,199))\n",
    "        G.add_edge(randint(50,99), randint(100,149))\n",
    "        G.add_edge(randint(50,99), randint(150, 199))\n",
    "        G.add_edge(randint(100,149), randint(150,199))\n",
    "    \n",
    "    return G\n",
    "\n",
    "def write_graph(G, file):\n",
    "    #Convert to JSON for d3\n",
    "    G_json = json.dumps({\n",
    "        \"nodes\": [{\"name\": n, \"w\": G.node[n][\"w\"]} for n in G.nodes()],\n",
    "        \"links\": [{\"source\": e[0], \"target\": e[1]} for e in G.edges()]\n",
    "    }, indent = 4)\n",
    "    \n",
    "    #Write to file\n",
    "    with open(\"template.html\") as viz:\n",
    "        new_viz = viz.read().replace(\"{{graph}}\", G_json)\n",
    "\n",
    "    with open(file, \"w\") as viz2:\n",
    "        viz2.write(new_viz)"
   ]
  },
  {
   "cell_type": "code",
   "execution_count": null,
   "metadata": {
    "collapsed": false
   },
   "outputs": [],
   "source": [
    "G = block_graph(.3, 5)"
   ]
  },
  {
   "cell_type": "code",
   "execution_count": null,
   "metadata": {
    "collapsed": false
   },
   "outputs": [],
   "source": [
    "write_graph(G, \"net.html\")"
   ]
  },
  {
   "cell_type": "code",
   "execution_count": null,
   "metadata": {
    "collapsed": true
   },
   "outputs": [],
   "source": []
  }
 ],
 "metadata": {
  "kernelspec": {
   "display_name": "Python 3",
   "language": "python",
   "name": "python3"
  },
  "language_info": {
   "codemirror_mode": {
    "name": "ipython",
    "version": 3
   },
   "file_extension": ".py",
   "mimetype": "text/x-python",
   "name": "python",
   "nbconvert_exporter": "python",
   "pygments_lexer": "ipython3",
   "version": "3.3.5"
  }
 },
 "nbformat": 4,
 "nbformat_minor": 0
}
